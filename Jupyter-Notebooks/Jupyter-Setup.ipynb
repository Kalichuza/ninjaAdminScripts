{
 "cells": [
  {
   "cell_type": "markdown",
   "metadata": {},
   "source": [
    "### Step 1: Install Visual Studio Code\n",
    "\n",
    "1. **Download VS Code**:"
   ]
  },
  {
   "cell_type": "code",
   "execution_count": null,
   "metadata": {
    "vscode": {
     "languageId": "powershell"
    }
   },
   "outputs": [],
   "source": [
    "winget install -e --id Microsoft.VisualStudioCode"
   ]
  },
  {
   "cell_type": "markdown",
   "metadata": {},
   "source": [
    "### Step 2: Install Python\n",
    "\n",
    "1. Install python using winget:"
   ]
  },
  {
   "cell_type": "code",
   "execution_count": null,
   "metadata": {
    "vscode": {
     "languageId": "powershell"
    }
   },
   "outputs": [],
   "source": [
    "winget install Python.Python.3.12"
   ]
  },
  {
   "cell_type": "markdown",
   "metadata": {},
   "source": [
    " **Verify Python Installation**:"
   ]
  },
  {
   "cell_type": "code",
   "execution_count": null,
   "metadata": {
    "vscode": {
     "languageId": "powershell"
    }
   },
   "outputs": [],
   "source": [
    "python --version"
   ]
  },
  {
   "cell_type": "markdown",
   "metadata": {},
   "source": [
    "## Step 3: Install Jupyter Notebook\n",
    "\n",
    "1. **Install Jupyter Notebook via pip**:\n",
    "   - Open a Command Prompt or PowerShell window.\n",
    "   - Install Jupyter Notebook by running:"
   ]
  },
  {
   "cell_type": "code",
   "execution_count": null,
   "metadata": {
    "vscode": {
     "languageId": "powershell"
    }
   },
   "outputs": [],
   "source": [
    "pip install notebook"
   ]
  },
  {
   "cell_type": "markdown",
   "metadata": {},
   "source": [
    "2. **Verify Installation**:"
   ]
  },
  {
   "cell_type": "code",
   "execution_count": null,
   "metadata": {
    "vscode": {
     "languageId": "powershell"
    }
   },
   "outputs": [],
   "source": [
    "jupyter notebook --version"
   ]
  },
  {
   "cell_type": "markdown",
   "metadata": {},
   "source": [
    "### Step 4: Install the Jupyter and Python Extensions in VS Code\n",
    "\n",
    "1. **Open VS Code**:\n",
    "   - Launch Visual Studio Code.\n",
    "\n",
    "2. **Install the Python Extension**:\n",
    "   - Click on the Extensions icon in the Activity Bar on the side of the window (or press `Ctrl+Shift+X`).\n",
    "   - Search for \"Python\" and install the extension provided by Microsoft.\n",
    "\n",
    "3. **Install the Jupyter Extension**:\n",
    "   - While still in the Extensions view, search for \"Jupyter\" and install the extension provided by Microsoft.\n",
    "\n",
    "### Step 5: Install PowerShell Kernel for Jupyter\n",
    "1. **Install .NET SDK**:\n",
    "   - To use PowerShell as a kernel in Jupyter, you'll need the .NET SDK."
   ]
  },
  {
   "cell_type": "code",
   "execution_count": null,
   "metadata": {
    "vscode": {
     "languageId": "powershell"
    }
   },
   "outputs": [],
   "source": [
    "# Download the .NET 8 SDK installer\n",
    "$dotnetInstallerUrl = \"https://download.visualstudio.microsoft.com/download/pr/12345678-1234-1234-1234-1234567890ab/dotnet-sdk-8.0.100-win-x64.exe\"\n",
    "$installerPath = \"$env:TEMP\\dotnet-sdk-8.0.100-win-x64.exe\"\n",
    "\n",
    "Invoke-WebRequest -Uri $dotnetInstallerUrl -OutFile $installerPath\n",
    "\n",
    "# Run the installer\n",
    "Start-Process -FilePath $installerPath -ArgumentList \"/quiet\" -Wait\n",
    "\n",
    "# Clean up the installer file\n",
    "Remove-Item -Path $installerPath\n",
    "\n",
    "# Verify the installation\n",
    "dotnet --version"
   ]
  },
  {
   "cell_type": "markdown",
   "metadata": {},
   "source": [
    "2. **Install PowerShell Kernel**:\n",
    "    - Install and launch the kernel:"
   ]
  },
  {
   "cell_type": "code",
   "execution_count": null,
   "metadata": {
    "vscode": {
     "languageId": "powershell"
    }
   },
   "outputs": [],
   "source": [
    "dotnet tool install -g Microsoft.dotnet-interactive\n",
    "\n",
    "dotnet interactive jupyter install\n",
    "\n",
    "jupyter notebook"
   ]
  },
  {
   "cell_type": "markdown",
   "metadata": {},
   "source": [
    "### Step 6: Create a New Jupyter Notebook in VS Code\n",
    "\n",
    "\n",
    "1. **Open VS Code**:\n",
    "   - Open Visual Studio Code.\n",
    "   - In an admin Powershell portal, type:\n",
    "   ```powershell\n",
    "   jupyter notebok\n",
    "   ```\n",
    "   - This will give you several urls. Copy and past one into the existing server in the kernal dropdown menu at the top of the project screen in the search bar.\n",
    "2. **Create a New Jupyter Notebook**:\n",
    "   - Open the Command Palette by pressing `Ctrl+Shift+P`.\n",
    "   - Type \"Jupyter: Create New Blank Notebook\" and press Enter.\n",
    "   - Choose the PowerShell kernel when prompted.\n",
    "\n",
    "3. **Save the Notebook**:\n",
    "   - Save the notebook with a `.ipynb` extension.\n",
    "\n",
    "### Step 7: Open and Edit Existing Notebooks\n",
    "\n",
    "1. **Open an Existing Notebook**:\n",
    "   - Drag and drop an existing `.ipynb` file into VS Code, or use `File -> Open File` to select and open a notebook.\n",
    "\n",
    "2. **Switch Kernel**:\n",
    "   - If your notebook is not already using PowerShell, you can switch the kernel by clicking on the kernel name in the top right corner of the notebook and selecting \"PowerShell\".\n",
    "\n",
    "### Step 8: Use VS Code for Interactive PowerShell Development\n",
    "\n",
    "1. **Run Cells**:\n",
    "   - Run individual cells by clicking the play button next to each cell, or run all cells by clicking `Run All` at the top of the notebook.\n",
    "\n",
    "2. **Variable Explorer**:\n",
    "   - Use the variable explorer provided by the Jupyter extension to view and interact with variables in your PowerShell environment.\n",
    "\n",
    "3. **Debugging**:\n",
    "   - VS Code allows you to set breakpoints and debug your PowerShell scripts within the notebook.\n",
    "\n",
    "### Step 9: Share and Collaborate\n",
    "\n",
    "1. **Save and Share**:\n",
    "   - Save your notebook and share the `.ipynb` file with others. They can open it in VS Code or any Jupyter-compatible environment.\n",
    "\n",
    "2. **Export to Other Formats**:\n",
    "   - You can export the notebook to other formats like HTML, PDF, or a Python script by using the `File -> Export` option within the notebook interface.\n",
    "\n",
    "### Conclusion\n",
    "\n",
    "You now have a fully integrated setup in VS Code to create, edit, and run Jupyter notebooks using PowerShell. This setup is powerful for development, testing, and documenting PowerShell scripts interactively."
   ]
  }
 ],
 "metadata": {
  "kernelspec": {
   "display_name": ".NET (PowerShell)",
   "language": "PowerShell",
   "name": ".net-powershell"
  },
  "language_info": {
   "file_extension": ".ps1",
   "mimetype": "text/x-powershell",
   "name": "PowerShell",
   "pygments_lexer": "powershell",
   "version": "7.0"
  }
 },
 "nbformat": 4,
 "nbformat_minor": 2
}
