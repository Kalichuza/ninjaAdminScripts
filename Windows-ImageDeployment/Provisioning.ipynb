{
 "cells": [
  {
   "cell_type": "markdown",
   "metadata": {},
   "source": [
    "Here’s a complete guide to creating a bootable USB drive using OSDCloud and Windows Configuration Designer (WCD) to install the NinjaOne agent during the Windows provisioning process. This guide is an adaptations of an [artice](https://www.ninjaone.com/blog/zero-touch-device-provisioning/) written by Jeff Hunter at NinjaOne and includes all the necessary steps:\n",
    "\n",
    "### **Step 1: Prepare Your Environment**\n",
    "\n",
    "\n",
    "The below script block will download any of the necessary scripts to a new folder on your C: drive named 'Provisioning':"
   ]
  },
  {
   "cell_type": "code",
   "execution_count": null,
   "metadata": {
    "dotnet_interactive": {
     "language": "powershell"
    },
    "polyglot_notebook": {
     "kernelName": "powershell"
    },
    "vscode": {
     "languageId": "powershell"
    }
   },
   "outputs": [],
   "source": [
    "\n",
    "# Predefined array of script URLs and corresponding file names\n",
    "$ScriptUrls = @(\n",
    "    \"https://raw.githubusercontent.com/Kalichuza/ninjaAdminScripts/main/Windows-ImageDeployment/Prep-USB.ps1\",\n",
    "    \"https://github.com/Kalichuza/ninjaAdminScripts/raw/main/Windows-ImageDeployment/New-NinjaWinPeUsb.ps1\",\n",
    "    \"https://github.com/Kalichuza/ninjaAdminScripts/raw/main/Windows-ImageDeployment/unattend.xml\"\n",
    ")\n",
    "\n",
    "$FileNames = @(\n",
    "    \"Prep-USB.ps1\",\n",
    "    \"New-NinjaWinPeUsb.ps1\",\n",
    "    \"unattend.xml\"\n",
    ")\n",
    "\n",
    "# Create a folder named \"provisioning\" in the root C: drive\n",
    "$provisioningFolder = \"C:\\Provisioning\"\n",
    "if (-Not (Test-Path -Path $provisioningFolder)) {\n",
    "    New-Item -Path $provisioningFolder -ItemType Directory -Force\n",
    "}\n",
    "\n",
    "# Ensure the number of URLs matches the number of file names\n",
    "if ($ScriptUrls.Length -ne $FileNames.Length) {\n",
    "    Write-Error \"The number of script URLs must match the number of file names.\"\n",
    "    exit 1\n",
    "}\n",
    "\n",
    "# Loop through each URL and download the corresponding script\n",
    "for ($i = 0; $i -lt $ScriptUrls.Length; $i++) {\n",
    "    $url = $ScriptUrls[$i]\n",
    "    $fileName = $FileNames[$i]\n",
    "    $outFile = Join-Path -Path $provisioningFolder -ChildPath $fileName\n",
    "\n",
    "    # Downloads remotely hosted code and saves it as an outfile of choosing\n",
    "    try {\n",
    "        Invoke-WebRequest -Uri $url -OutFile $outFile\n",
    "        Write-Host \"Downloaded $fileName successfully from $url to $provisioningFolder\"\n",
    "    } catch {\n",
    "        $errorMessage = $_.Exception.Message\n",
    "        Write-Error \"Failed to download `$fileName` from `$url`: $errorMessage\"\n",
    "    }\n",
    "}\n"
   ]
  },
  {
   "cell_type": "markdown",
   "metadata": {},
   "source": [
    "**Skipping The OOBE Using unattend.xml**\n",
    "- You could use the cookbook located here:\n",
    "[Unattennded install xml Generator](https://schneegans.de/windows/unattend-generator/)\n",
    "\n",
    "- You could also use the included file in this repo. Here’s a clear list of all the values in the `unattend.xml` file that you will need to customize:\n",
    "\n",
    "### Customization Instructions:\n",
    "1. Replace `examplepassword123` with your desired user password.\n",
    "2. Replace `ExampleUser` with the desired username.\n",
    "3. Replace `Primary User Account` with a description for the user account (optional).\n",
    "4. Replace `John Doe` with the registered owner name.\n",
    "5. Replace `ExampleCorp` with the registered organization name (optional).\n",
    "\n",
    "- Place the Final file into the root WinPE directory\n",
    "This ensures that the `unattend.xml` is tailored to your specific deployment needs.\n",
    "#### **Install Prerequisites**\n",
    "\n",
    "1. **Windows Assessment and Deployment Kit (ADK)**:\n",
    "   - Download and install the Windows ADK from the [official Microsoft site](https://learn.microsoft.com/en-us/windows-hardware/get-started/adk-install)."
   ]
  },
  {
   "cell_type": "code",
   "execution_count": null,
   "metadata": {
    "dotnet_interactive": {
     "language": "powershell"
    },
    "polyglot_notebook": {
     "kernelName": "powershell"
    },
    "vscode": {
     "languageId": "powershell"
    }
   },
   "outputs": [],
   "source": [
    "#!pwsh\n",
    "# Define the URLs for the ADK and WinPE Add-on installers\n",
    "$adkUrl = \"https://go.microsoft.com/fwlink/?linkid=2166053\"  # This link is for ADK for Windows 11, version 22H2\n",
    "\n",
    "# Define the download paths\n",
    "$adkInstallerPath = \"$env:TEMP\\adksetup.exe\"\n",
    "\n",
    "# Download the ADK installer\n",
    "Invoke-WebRequest -Uri $adkUrl -OutFile $adkInstallerPath\n",
    "\n",
    "# Define installation directories (optional)\n",
    "$adkInstallPath = \"C:\\Program Files (x86)\\Windows Kits\\10\"\n",
    "\n",
    "# Install the ADK with selected features\n",
    "Start-Process -Wait -FilePath $adkInstallerPath -ArgumentList `\n",
    "    \"/quiet\", `\n",
    "    \"/features OptionId.ApplicationCompatibilityToolkit `\n",
    "               OptionId.DistributedScanManagementOptionId.CompatibilityAdministrator `\n",
    "               OptionId.DeviceExperience `\n",
    "               OptionId.WindowsPerformanceToolkit `\n",
    "               OptionId.ApplicationCompatibilityToolkitsOptionId.WindowsPerformanceRecorder `\n",
    "               OptionId.WindowsPerformanceAnalyzer `\n",
    "               OptionId.AssessmentToolkit `\n",
    "               OptionId.WindowsAssessmentToolkit `\n",
    "               OptionId.DeploymentTools `\n",
    "               OptionId.WindowsPreinstallationEnvironment `\n",
    "               OptionId.UserStateMigrationTool `\n",
    "               OptionId.VolumeActivationManagementTool `\n",
    "               OptionId.WindowsImageConfigurationOptionId.MSI Wrapper `\n",
    "               OptionId.MediaExperience `\n",
    "               OptionId.NetworkExperience `\n",
    "               OptionId.Networking `\n",
    "               OptionId.PressPass `\n",
    "               OptionId.ScanningTools `\n",
    "               OptionId.SecurityTools `\n",
    "               OptionId.StorageExperience\", `\n",
    "    \"/installpath $adkInstallPath\"\n",
    "\n",
    "\n",
    "\n",
    "\n"
   ]
  },
  {
   "cell_type": "markdown",
   "metadata": {},
   "source": [
    "2. **WinPE Add-on**:\n",
    "   - Install the Windows PE add-on, which provides the necessary tools for creating the WinPE environment."
   ]
  },
  {
   "cell_type": "code",
   "execution_count": null,
   "metadata": {
    "dotnet_interactive": {
     "language": "powershell"
    },
    "polyglot_notebook": {
     "kernelName": "powershell"
    },
    "vscode": {
     "languageId": "powershell"
    }
   },
   "outputs": [],
   "source": [
    "\n",
    "# Define the URLs for the ADK and WinPE Add-on installers\n",
    "$winPeUrl = \"https://go.microsoft.com/fwlink/?linkid=2166060\"  # This link is for the WinPE add-on for Windows ADK for Windows 11, version 22H2\n",
    "\n",
    "# Define the download paths\n",
    "$winPeInstallerPath = \"$env:TEMP\\winpesetup.exe\"\n",
    "\n",
    "# Download the ADK installer\n",
    "Invoke-WebRequest -Uri $adkUrl -OutFile $adkInstallerPath\n",
    "\n",
    "# Download the WinPE installer\n",
    "Invoke-WebRequest -Uri $winPeUrl -OutFile $winPeInstallerPath\n",
    "\n",
    "# Define installation directories (optional)\n",
    "$winPeInstallPath = \"C:\\Program Files (x86)\\Windows Kits\\10\\WinPE\"\n",
    "\n",
    "# Install the WinPE add-on\n",
    "Start-Process -Wait -FilePath $winPeInstallerPath -ArgumentList \"/quiet\", \"/installpath $winPeInstallPath\"\n"
   ]
  },
  {
   "cell_type": "markdown",
   "metadata": {},
   "source": [
    "\n",
    "\n",
    "3. **Install Windows Configuration Designer**:\n",
    "   - This is available [Here](https://www.microsoft.com/store/productId/9NBLGGH4TX22)\n",
    "   - Detailed instructions on how to create a custom .ppkg file can be found [Here.](https://github.com/Kalichuza/ninjaAdminScripts/tree/main/Windows-ConfigurationDesigner)\n",
    "\n",
    "   4. **Visual Studio Code with PowerShell Extension**:\n",
    "   - Download and install [VS Code](https://code.visualstudio.com/) and the PowerShell extension from the Extensions Marketplace.\n",
    "   - Or run the auto-install script below:\n"
   ]
  },
  {
   "cell_type": "code",
   "execution_count": null,
   "metadata": {
    "dotnet_interactive": {
     "language": "powershell"
    },
    "polyglot_notebook": {
     "kernelName": "powershell"
    },
    "vscode": {
     "languageId": "powershell"
    }
   },
   "outputs": [],
   "source": [
    "#!pwsh\n",
    "# Define the URL for the latest VS Code installer\n",
    "$vscodeUrl = \"https://update.code.visualstudio.com/latest/win32-x64-user/stable\"\n",
    "\n",
    "# Define the download path\n",
    "$installerPath = \"$env:TEMP\\VSCodeSetup.exe\"\n",
    "\n",
    "# Download the VS Code installer\n",
    "Invoke-WebRequest -Uri $vscodeUrl -OutFile $installerPath\n",
    "\n",
    "# Install VS Code silently\n",
    "Start-Process -Wait -FilePath $installerPath -ArgumentList \"/verysilent\" -NoNewWindow\n",
    "\n",
    "# Clean up the installer after installation\n",
    "Remove-Item -Path $installerPath -Force\n",
    "\n",
    "Write-Output \"Visual Studio Code installation completed successfully.\"\n"
   ]
  },
  {
   "cell_type": "markdown",
   "metadata": {},
   "source": [
    "\n",
    "#### **Prepare the USB Drive**\n",
    "- Ensure you have a USB drive with at least 32 GB of space.\n",
    "- Insert the USB drive into your computer.\n",
    "\n",
    "#### **Set Up the OSDCloud Workspace**\n",
    "1. **Run PowerShell Script New-NinjaWinPeUsb.ps1**:\n",
    " - Place the File in your downloads folder \n",
    " - This will create the usb where you will place your customization files"
   ]
  },
  {
   "cell_type": "code",
   "execution_count": null,
   "metadata": {
    "dotnet_interactive": {
     "language": "powershell"
    },
    "polyglot_notebook": {
     "kernelName": "powershell"
    },
    "vscode": {
     "languageId": "powershell"
    }
   },
   "outputs": [],
   "source": [
    "#Ensure the execution policy is bypassed\n",
    "Set-ExecutionPolicy -ExecutionPolicy Bypass -Scope Process\n",
    "\n",
    "Ivoke-expression 'C:\\Provisioning\\New-NinjaWinPeUsb.ps1'"
   ]
  },
  {
   "cell_type": "markdown",
   "metadata": {},
   "source": [
    "#### **Set Up the OSDCloud/WinPE Usb**\n",
    "Before running th following code, check the letter drive for the WinPE partition and makes sure to fill in the variable below with the correct letter:\n"
   ]
  },
  {
   "cell_type": "code",
   "execution_count": null,
   "metadata": {
    "dotnet_interactive": {
     "language": "powershell"
    },
    "polyglot_notebook": {
     "kernelName": "powershell"
    },
    "vscode": {
     "languageId": "powershell"
    }
   },
   "outputs": [],
   "source": [
    "$WinPE = \"E:\"\n",
    "mkdir -Path $WinPE\\OSDCloud\\Automate\\Provisioning\\\n"
   ]
  },
  {
   "cell_type": "markdown",
   "metadata": {},
   "source": [
    "### **The next step will be to copy the needed files on to the new USB:**\n"
   ]
  },
  {
   "cell_type": "code",
   "execution_count": null,
   "metadata": {
    "dotnet_interactive": {
     "language": "powershell"
    },
    "polyglot_notebook": {
     "kernelName": "powershell"
    },
    "vscode": {
     "languageId": "powershell"
    }
   },
   "outputs": [],
   "source": [
    "cd C:\\Provisioning\n",
    "\n",
    ".\\Prep-USB.ps1 -WinPEPathProvisioning \"<fill in USB WinPE OSDDrive here>\" -UnattendXMLPathUSB \"<fill in WinPE Root here>\" -ProvisioningFolderPath \"<Path to your provisioning files>\" -UnattendXMLPathProvisioning \"<Path to your unattend.xml file>\""
   ]
  },
  {
   "cell_type": "markdown",
   "metadata": {},
   "source": [
    "### **After completing these steps, you will have a bootable Windows USB**\n",
    "\n",
    "- Select the USB in the boot menu and walk away. The rest will be taken care of by the script."
   ]
  }
 ],
 "metadata": {
  "kernelspec": {
   "display_name": ".NET (PowerShell)",
   "language": "PowerShell",
   "name": ".net-powershell"
  },
  "language_info": {
   "file_extension": ".ps1",
   "mimetype": "text/x-powershell",
   "name": "PowerShell",
   "pygments_lexer": "powershell",
   "version": "7.0"
  },
  "polyglot_notebook": {
   "kernelInfo": {
    "defaultKernelName": "csharp",
    "items": [
     {
      "aliases": [],
      "name": "csharp"
     },
     {
      "aliases": [],
      "name": "powershell"
     }
    ]
   }
  }
 },
 "nbformat": 4,
 "nbformat_minor": 2
}
