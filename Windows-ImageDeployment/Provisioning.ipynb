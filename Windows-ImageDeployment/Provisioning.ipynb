{
 "cells": [
  {
   "cell_type": "markdown",
   "metadata": {},
   "source": [
    "Here’s a complete guide to creating a bootable USB drive using OSDCloud and Windows Configuration Designer (WCD) to install the NinjaOne agent during the Windows provisioning process. This guide is an adaptations of an [artice](https://www.ninjaone.com/blog/zero-touch-device-provisioning/) written by Jeff Hunter at NinjaOne and includes all the necessary steps:\n",
    "\n",
    "### **Step 1: Prepare Your Environment**\n",
    "\n",
    "\n",
    "The below script block will download any of the necessary scripts to a new folder on your C: drive named 'Provisioning':"
   ]
  },
  {
   "cell_type": "code",
   "execution_count": null,
   "metadata": {
    "vscode": {
     "languageId": "powershell"
    }
   },
   "outputs": [],
   "source": [
    "\n",
    "# Predefined array of script URLs and corresponding file names\n",
    "$ScriptUrls = @(\n",
    "    \"https://raw.githubusercontent.com/Kalichuza/ninjaAdminScripts/main/Windows-ImageDeployment/Prep-USB.ps1\",\n",
    "    \"https://github.com/Kalichuza/ninjaAdminScripts/raw/main/Windows-ImageDeployment/New-ProxmoxISO.ps1\",\n",
    "    \"https://github.com/Kalichuza/ninjaAdminScripts/raw/main/Windows-ImageDeployment/unattend.xml\"\n",
    ")\n",
    "\n",
    "$FileNames = @(\n",
    "    \"Prep-USB.ps1\",\n",
    "    \"New-ProxmoxISO.ps1\",\n",
    "    \"unattend.xml\"\n",
    ")\n",
    "\n",
    "# Create a folder named \"provisioning\" in the root C: drive\n",
    "$provisioningFolder = \"C:\\Provisioning\"\n",
    "if (-Not (Test-Path -Path $provisioningFolder)) {\n",
    "    New-Item -Path $provisioningFolder -ItemType Directory -Force\n",
    "}\n",
    "\n",
    "# Ensure the number of URLs matches the number of file names\n",
    "if ($ScriptUrls.Length -ne $FileNames.Length) {\n",
    "    Write-Error \"The number of script URLs must match the number of file names.\"\n",
    "    exit 1\n",
    "}\n",
    "\n",
    "# Loop through each URL and download the corresponding script\n",
    "for ($i = 0; $i -lt $ScriptUrls.Length; $i++) {\n",
    "    $url = $ScriptUrls[$i]\n",
    "    $fileName = $FileNames[$i]\n",
    "    $outFile = Join-Path -Path $provisioningFolder -ChildPath $fileName\n",
    "\n",
    "    # Downloads remotely hosted code and saves it as an outfile of choosing\n",
    "    try {\n",
    "        Invoke-WebRequest -Uri $url -OutFile $outFile\n",
    "        Write-Host \"Downloaded $fileName successfully from $url to $provisioningFolder\"\n",
    "    } catch {\n",
    "        $errorMessage = $_.Exception.Message\n",
    "        Write-Error \"Failed to download `$fileName` from `$url`: $errorMessage\"\n",
    "    }\n",
    "}\n"
   ]
  },
  {
   "cell_type": "markdown",
   "metadata": {},
   "source": [
    "**Skipping The OOBE Using unattend.xml**\n",
    "- You could use the cookbook located here:\n",
    "[Unattennded install xml Generator](https://schneegans.de/windows/unattend-generator/)\n",
    "\n",
    "- You could also use the included file in this repo. Here’s a clear list of all the values in the `unattend.xml` file that you will need to customize:\n",
    "\n",
    "### Customization Instructions:\n",
    "1. Replace `examplepassword123` with your desired user password.\n",
    "2. Replace `ExampleUser` with the desired username.\n",
    "3. Replace `Primary User Account` with a description for the user account (optional).\n",
    "4. Replace `John Doe` with the registered owner name.\n",
    "5. Replace `ExampleCorp` with the registered organization name (optional).\n",
    "\n",
    "- Place the Final file into the root WinPE directory\n",
    "This ensures that the `unattend.xml` is tailored to your specific deployment needs.\n",
    "#### **Install Prerequisites**\n",
    "1. **Windows Assessment and Deployment Kit (ADK)**:\n",
    "   - Download and install the Windows ADK from the [official Microsoft site](https://learn.microsoft.com/en-us/windows-hardware/get-started/adk-install).\n",
    "\n",
    "2. **WinPE Add-on**:\n",
    "   - Install the Windows PE add-on, which provides the necessary tools for creating the WinPE environment.\n",
    "\n",
    "3. **Install Windows Configuration Designer**:\n",
    "   \n",
    "\n",
    "4. **Visual Studio Code with PowerShell Extension**:\n",
    "   - Download and install [VS Code](https://code.visualstudio.com/) and the PowerShell extension from the Extensions Marketplace.\n",
    "\n",
    "#### **Prepare the USB Drive**\n",
    "- Ensure you have a USB drive with at least 32 GB of space.\n",
    "- Insert the USB drive into your computer.\n",
    "\n",
    "#### **Set Up the OSDCloud Workspace**\n",
    "1. **Run PowerShell Script New-NinjaWinPeUsb.ps1**:\n",
    " - Place the File in your downloads folder \n",
    " - This will create the usb where you will place your customization files"
   ]
  },
  {
   "cell_type": "code",
   "execution_count": null,
   "metadata": {
    "vscode": {
     "languageId": "powershell"
    }
   },
   "outputs": [],
   "source": [
    "#Ensure the execution policy is bypassed\n",
    "Set-ExecutionPolicy -ExecutionPolicy Bypass -Scope Process\n",
    "\n",
    "# Navigate to the location of the New-NinjaWinPeUsb.ps1\n",
    "cd C:\\Provisioning\n",
    ".\\New-NinjaWinPeUsb.ps1"
   ]
  },
  {
   "cell_type": "markdown",
   "metadata": {},
   "source": [
    "#### **Set Up the OSDCloud/WinPE Usb**\n",
    "Before running th following code, check the letter drive for the WinPE partition and makes sure to fill in the variable below with the correct letter:\n"
   ]
  },
  {
   "cell_type": "code",
   "execution_count": null,
   "metadata": {
    "vscode": {
     "languageId": "powershell"
    }
   },
   "outputs": [],
   "source": [
    "$WinPE = \"E:\"\n",
    "mkdir -Path $WinPE\\OSDCloud\\Automate\\Provisioning\\\n"
   ]
  },
  {
   "cell_type": "markdown",
   "metadata": {},
   "source": [
    "### **The next step will be to copy the needed files on to the new USB:**\n"
   ]
  },
  {
   "cell_type": "code",
   "execution_count": null,
   "metadata": {
    "vscode": {
     "languageId": "powershell"
    }
   },
   "outputs": [],
   "source": [
    "cd C:\\Provisioning\n",
    "\n",
    ".\\Prep-USB.ps1 -WinPEPathProvisioning \"<fill in here>\" -UnattendXMLPathUSB \"<fill in here>\" -ProvisioningFolderPath \"<fill in here>\" -UnattendXMLPathProvisioning \"<fill in here>\""
   ]
  }
 ],
 "metadata": {
  "kernelspec": {
   "display_name": ".NET (PowerShell)",
   "language": "PowerShell",
   "name": ".net-powershell"
  },
  "language_info": {
   "file_extension": ".ps1",
   "mimetype": "text/x-powershell",
   "name": "PowerShell",
   "pygments_lexer": "powershell",
   "version": "7.0"
  }
 },
 "nbformat": 4,
 "nbformat_minor": 2
}
